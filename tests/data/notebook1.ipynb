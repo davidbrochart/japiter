{
  "cells": [
    {
      "execution_count": null,
      "outputs": [],
      "id": "a7243792-6f06-4462-a6b5-7e9ec604348e",
      "source": "from ypywidgets import Widget, reactive",
      "cell_type": "code",
      "metadata": {
        "trusted": false
      }
    },
    {
      "metadata": {
        "trusted": false
      },
      "cell_type": "code",
      "id": "dc428ca1-d2f1-4dc1-8811-6be77103d683",
      "execution_count": null,
      "source": "class Switch(Widget):\n    value = reactive(False)\n    def __init__(self) -> None:\n            super().__init__(primary=True)\n    def toggle(self):\n        self.value = not self.value",
      "outputs": []
    },
    {
      "id": "a7243792-6f06-4462-a6b5-7e9ec604348f",
      "source": "switch = Switch()\nswitch",
      "execution_count": null,
      "metadata": {
        "trusted": false
      },
      "outputs": [],
      "cell_type": "code"
    },
    {
      "outputs": [],
      "id": "a7243792-6f06-4462-a6b5-7e9ec604349f",
      "source": "switch.toggle()",
      "cell_type": "code",
      "metadata": {
        "trusted": false
      },
      "execution_count": null
    }
  ],
  "metadata": {
    "kernelspec": {
      "language": "python",
      "name": "python3",
      "display_name": "Python 3 (ipykernel)"
    },
    "language_info": {
      "version": "3.7.12",
      "codemirror_mode": {
        "version": 3,
        "name": "ipython"
      },
      "file_extension": ".py",
      "mimetype": "text/x-python",
      "name": "python",
      "pygments_lexer": "ipython3",
      "nbconvert_exporter": "python"
    }
  },
  "nbformat": 4,
  "nbformat_minor": 5
}
