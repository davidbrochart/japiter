{
  "cells": [
    {
      "execution_count": 1,
      "outputs": [],
      "id": "a7243792-6f06-4462-a6b5-7e9ec604348e",
      "source": "from ypywidgets_textual.switch import Switch",
      "execution_state": "idle",
      "metadata": {
        "trusted": false
      },
      "cell_type": "code"
    },
    {
      "execution_count": 2,
      "cell_type": "code",
      "outputs": [],
      "execution_state": "busy",
      "id": "a7243792-6f06-4462-a6b5-7e9ec604348f",
      "metadata": {
        "trusted": false
      },
      "source": "switch = Switch()\nswitch"
    },
    {
      "execution_state": "idle",
      "outputs": [],
      "id": "a7243792-6f06-4462-a6b5-7e9ec604349f",
      "source": "switch.toggle()",
      "cell_type": "code",
      "execution_count": 3,
      "metadata": {
        "trusted": false
      }
    }
  ],
  "metadata": {
    "kernelspec": {
      "display_name": "Python 3 (ipykernel)",
      "name": "python3",
      "language": "python"
    },
    "language_info": {
      "version": "3.7.12",
      "pygments_lexer": "ipython3",
      "name": "python",
      "nbconvert_exporter": "python",
      "mimetype": "text/x-python",
      "file_extension": ".py",
      "codemirror_mode": {
        "version": 3,
        "name": "ipython"
      }
    }
  },
  "nbformat": 4,
  "nbformat_minor": 5
}
