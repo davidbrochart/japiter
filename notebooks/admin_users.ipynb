{
  "metadata": {
    "kernelspec": {
      "display_name": "Python 3 (ipykernel)",
      "language": "python",
      "name": "python3"
    },
    "language_info": {
      "codemirror_mode": {
        "name": "ipython",
        "version": 3
      },
      "file_extension": ".py",
      "mimetype": "text/x-python",
      "name": "python",
      "nbconvert_exporter": "python",
      "pygments_lexer": "ipython3",
      "version": "3.11.3"
    }
  },
  "nbformat_minor": 5,
  "nbformat": 4,
  "cells": [
    {
      "id": "ae2be77b-69c0-43f1-b60e-cf86ef7518b4",
      "cell_type": "code",
      "source": "import contextlib\n\nfrom fps_auth.models import UserCreate\nfrom fastapi_users.exceptions import UserAlreadyExists\nfrom fps_auth.config import _AuthConfig\nfrom jupyverse_api.frontend import FrontendConfig\nfrom fps_auth.db import get_db\nfrom fps_auth.backends import get_backend",
      "metadata": {
        "trusted": true
      },
      "outputs": [],
      "execution_count": null
    },
    {
      "id": "62d10464-8074-4283-b834-0d9c979b21cf",
      "cell_type": "code",
      "source": "auth_config = _AuthConfig()\nfrontend_config = FrontendConfig()\ndb = get_db(auth_config)\nbackend = get_backend(auth_config, frontend_config, db)",
      "metadata": {
        "trusted": true
      },
      "outputs": [],
      "execution_count": null
    },
    {
      "id": "aca78075-d54b-4109-b205-67b719435c9e",
      "cell_type": "code",
      "source": "get_async_session_context = contextlib.asynccontextmanager(db.get_async_session)\nget_user_db_context = contextlib.asynccontextmanager(db.get_user_db)\nget_user_manager_context = contextlib.asynccontextmanager(backend.get_user_manager)",
      "metadata": {
        "trusted": true
      },
      "outputs": [],
      "execution_count": null
    },
    {
      "id": "06781caa-d0f6-4f48-baa8-5aeb56105e55",
      "cell_type": "code",
      "source": "async def create_user(username: str, email: str, password: str, is_superuser: bool = False, permissions = {}):\n    try:\n        async with get_async_session_context() as session:\n            async with get_user_db_context(session) as user_db:\n                async with get_user_manager_context(user_db) as user_manager:\n                    user = await user_manager.create(\n                        UserCreate(\n                            username=username,\n                            email=email,\n                            password=password,\n                            is_superuser=is_superuser,\n                            permissions=permissions,\n                        )\n                    )\n                    print(f\"User created {user}\")\n    except UserAlreadyExists:\n        print(f\"User {email} already exists\")",
      "metadata": {
        "trusted": true
      },
      "outputs": [],
      "execution_count": null
    },
    {
      "id": "2a50596e-956a-4e73-a70d-1a03470a662c",
      "cell_type": "markdown",
      "source": "# Create new user",
      "metadata": {}
    },
    {
      "id": "e6e42e04-1463-43d0-a1f1-ba023c527875",
      "cell_type": "code",
      "source": "# await create_user(\"king\", \"king.arthur@camelot.bt\", \"guinevere\")",
      "metadata": {
        "trusted": true
      },
      "outputs": [],
      "execution_count": null
    }
  ]
}
